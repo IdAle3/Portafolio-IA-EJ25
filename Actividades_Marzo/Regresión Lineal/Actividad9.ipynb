{
 "cells": [
  {
   "cell_type": "code",
   "execution_count": null,
   "metadata": {},
   "outputs": [],
   "source": [
    "# imports necesarios\n",
    "import numpy as np\n",
    "import pandas as pd\n",
    "import seaborn as sb\n",
    "import matplotlib.pyplot as plt\n",
    "%matplotlib inline\n",
    "from mpl_toolkits.mplot3d import Axes3D\n",
    "from matplotlib import cm\n",
    "plt.rcParams['figure.figsize'] = (16, 9)\n",
    "plt.style.use('ggplot')\n",
    "from sklearn import linear_model\n",
    "from sklearn.metrics import mean_squared_error, r2_score"
   ]
  },
  {
   "cell_type": "code",
   "execution_count": null,
   "metadata": {},
   "outputs": [],
   "source": [
    "#cargamos los datos de entrada\n",
    "data = pd.read_csv(\"./articulos_ml.csv\")\n",
    "#veamos cuantas dimensiones y registros contiene\n",
    "data.shape"
   ]
  },
  {
   "cell_type": "code",
   "execution_count": null,
   "metadata": {},
   "outputs": [],
   "source": [
    "data.head()"
   ]
  },
  {
   "cell_type": "code",
   "execution_count": null,
   "metadata": {},
   "outputs": [],
   "source": [
    "# Ahora veamos algunas estadísticas de nuestros datos\n",
    "data.describe()"
   ]
  },
  {
   "cell_type": "code",
   "execution_count": null,
   "metadata": {},
   "outputs": [],
   "source": [
    "# Visualizamos rápidamente las caraterísticas de entrada\n",
    "data.drop(['Title', 'url', 'Elapsed days'], axis=1).hist()\n",
    "plt.show()"
   ]
  },
  {
   "cell_type": "code",
   "execution_count": null,
   "metadata": {},
   "outputs": [],
   "source": [
    "# Vamos a RECORTAR los datos en la zona donde se concentran más los puntos\n",
    "# esto es en el eje X: entre 0 y 3.500\n",
    "# y en el eje Y: entre 0 y 80.000\n",
    "filtered_data = data[(data['Word count'] <= 3500) & (data['# Shares'] <= 80000)]\n",
    "colores=['orange','blue']\n",
    "tamanios=[30,60]\n",
    "f1 = filtered_data['Word count'].values\n",
    "f2 = filtered_data['# Shares'].values\n",
    "# Vamos a pintar en colores los puntos por debajo y por encima de la media de Cantidad de Palabras\n",
    "asignar=[]\n",
    "for index, row in filtered_data.iterrows():\n",
    "    if(row['Word count']>1808):\n",
    "        asignar.append(colores[0])\n",
    "    else:\n",
    "         asignar.append(colores[1])\n",
    "\n",
    "plt.scatter(f1, f2, c=asignar, s=tamanios[0])\n",
    "plt.show()\n"
   ]
  },
  {
   "cell_type": "code",
   "execution_count": null,
   "metadata": {},
   "outputs": [],
   "source": [
    "# Asignamos nuestra variable de entrada X para entrenamiento y las etiquetas Y.\n",
    "dataX = filtered_data[[\"Word count\"]]\n",
    "X_train = np.array(dataX)\n",
    "y_train = filtered_data['# Shares'].values\n",
    "\n",
    "# Creamos el objeto de Regresión Linear\n",
    "regr = linear_model.LinearRegression()\n",
    "\n",
    "# Entrenamos nuestro modelo\n",
    "regr.fit(X_train, y_train)\n",
    "\n",
    "# Hacemos las predicciones que en definitiva una línea (en este caso, al ser 2D)\n",
    "y_pred = regr.predict(X_train)\n",
    "\n",
    "# Veamos los coeficientes obtenidos, en nuestro caso, serán la Tangente\n",
    "print('Coefficients: \\n', regr.coef_)\n",
    "# Este es el valor donde corta el eje Y (en X=0)\n",
    "print('Independent term: \\n', regr.intercept_)\n",
    "# Error Cuadrado Medio\n",
    "print(\"Mean squared error: %.2f\" % mean_squared_error(y_train, y_pred))\n",
    "# Puntaje de Varianza. El mejor puntaje es un 1.0\n",
    "print('Variance score: %.2f' % r2_score(y_train, y_pred))\n"
   ]
  },
  {
   "cell_type": "code",
   "execution_count": null,
   "metadata": {},
   "outputs": [],
   "source": [
    "# Graficamos los datos\n",
    "plt.scatter(X_train, y_train, color='blue', label=\"Datos reales\")\n",
    "plt.plot(X_train, y_pred, color='red', linewidth=2, label=\"Regresión lineal\")\n",
    "\n",
    "plt.xlabel(\"Word count\")\n",
    "plt.ylabel(\"# Shares\")\n",
    "plt.legend()\n",
    "plt.show()"
   ]
  },
  {
   "cell_type": "code",
   "execution_count": null,
   "metadata": {},
   "outputs": [],
   "source": [
    "#Vamos a comprobar:\n",
    "# Quiero predecir cuántos \"Shares\" voy a obtener por un artículo con 2.000 palabras,\n",
    "# según nuestro modelo, hacemos:\n",
    "y_Dosmil = regr.predict([[2000]])\n",
    "print(int(y_Dosmil))"
   ]
  },
  {
   "cell_type": "code",
   "execution_count": null,
   "metadata": {},
   "outputs": [],
   "source": [
    "# Vamos a intentar mejorar el Modelo con una dimensión más:\n",
    "# Creamos una nueva variable que es la suma de enlaces, comentarios e imágenes\n",
    "suma = (filtered_data[\"# of Links\"] + \n",
    "        filtered_data['# of comments'].fillna(0) + \n",
    "        filtered_data['# Images video'])\n",
    "\n",
    "# Creamos el nuevo DataFrame con dos características\n",
    "dataX2 = pd.DataFrame()\n",
    "dataX2[\"Word count\"] = filtered_data[\"Word count\"]\n",
    "dataX2[\"suma\"] = suma\n",
    "\n",
    "# Convertimos a arrays de NumPy para el entrenamiento\n",
    "XY_train = np.array(dataX2)\n",
    "z_train = filtered_data['# Shares'].values"
   ]
  },
  {
   "cell_type": "code",
   "execution_count": null,
   "metadata": {},
   "outputs": [],
   "source": [
    " # Creamos un nuevo objeto de Regresión Lineal\n",
    "regr2 = linear_model.LinearRegression()\n",
    "\n",
    "# Entrenamos el modelo, esta vez, con 2 dimensiones\n",
    "# obtendremos 2 coeficientes, para graficar un plano\n",
    "regr2.fit(XY_train, z_train)\n",
    "\n",
    "# Hacemos la predicción con la que tendremos puntos sobre el plano hallado\n",
    "z_pred = regr2.predict(XY_train)\n",
    "\n",
    "# Los coeficientes\n",
    "print('Coefficients: \\n', regr2.coef_)\n",
    "# Error cuadrático medio\n",
    "print(\"Mean squared error: %.2f\" % mean_squared_error(z_train, z_pred))\n",
    "# Evaluamos el puntaje de varianza (siendo 1.0 el mejor posible)\n",
    "print('Variance score: %.2f' % r2_score(z_train, z_pred))\n"
   ]
  },
  {
   "cell_type": "code",
   "execution_count": null,
   "metadata": {},
   "outputs": [],
   "source": [
    "fig = plt.figure(figsize=(16, 10))  \n",
    "ax = fig.add_subplot(111, projection='3d')\n",
    "\n",
    "xx, yy = np.meshgrid(np.linspace(0, 3500, num=50), np.linspace(0, 60, num=50))\n",
    "\n",
    "nuevoX = regr2.coef_[0] * xx\n",
    "nuevoY = regr2.coef_[1] * yy\n",
    "z = nuevoX + nuevoY + regr2.intercept_\n",
    "\n",
    "ax.plot_surface(xx, yy, z, alpha=0.5, cmap='coolwarm', shade=True)\n",
    "\n",
    "ax.scatter(XY_train[:, 0], XY_train[:, 1], z_train, c='blue', s=50, label=\"Datos reales\", alpha=0.85)\n",
    "\n",
    "z_pred = regr2.predict(XY_train)\n",
    "ax.scatter(XY_train[:, 0], XY_train[:, 1], z_pred, c='red', s=55, label=\"Predicciones\", alpha=0.9)\n",
    "\n",
    "ax.view_init(elev=20, azim=45)\n",
    "\n",
    "ax.grid(True)\n",
    "\n",
    "ax.set_xlabel('Cantidad de Palabras', fontsize=14, labelpad=20)\n",
    "ax.set_ylabel('Suma de Enlaces, Comentarios e Imágenes', fontsize=14, labelpad=20)\n",
    "ax.set_zlabel('Compartido en Redes', fontsize=14, labelpad=20)\n",
    "ax.set_title('Regresión Lineal con Múltiples Variables', fontsize=16, pad=25)\n",
    "\n",
    "ax.legend(fontsize=14)\n",
    "\n",
    "plt.show()"
   ]
  },
  {
   "cell_type": "code",
   "execution_count": null,
   "metadata": {},
   "outputs": [],
   "source": [
    "# Datos de entrada para predecir\n",
    "nuevos_datos = np.array([[2000, 10 + 4 + 6]])\n",
    "\n",
    "# Predicción con el modelo entrenado\n",
    "z_Dosmil = regr2.predict(nuevos_datos)\n",
    "\n",
    "# Imprimimos la cantidad estimada de Shares\n",
    "print(int(z_Dosmil[0]))  # Convertimos el resultado a entero"
   ]
  }
 ],
 "metadata": {
  "kernelspec": {
   "display_name": "Python 3",
   "language": "python",
   "name": "python3"
  },
  "language_info": {
   "codemirror_mode": {
    "name": "ipython",
    "version": 3
   },
   "file_extension": ".py",
   "mimetype": "text/x-python",
   "name": "python",
   "nbconvert_exporter": "python",
   "pygments_lexer": "ipython3",
   "version": "3.12.5"
  }
 },
 "nbformat": 4,
 "nbformat_minor": 2
}
